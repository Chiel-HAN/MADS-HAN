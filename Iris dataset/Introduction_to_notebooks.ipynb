{
 "cells": [
  {
   "cell_type": "markdown",
   "metadata": {},
   "source": [
    "# Using jupyter notebooks"
   ]
  },
  {
   "cell_type": "markdown",
   "metadata": {},
   "source": [
    "If you already have some experience with jupyter notebooks or do not have time to run through this example, the most important takeaway is to always **restart your kernel** and **rerun you full notebook** before sharing your notebook."
   ]
  },
  {
   "cell_type": "markdown",
   "metadata": {},
   "source": [
    "Jupyter notebooks are a convenient way to integrate blocks of code with text. A such, they are ideal for writing reports and doing assignments. A notebook consists of cells that can be either text or code. To run a cell, first highlight it (either by clicking it or by using the arrow-keys). Then you can press the 'run' button or use the hotkey **Shift+Return(enter)** to run and move to the next cell or **Ctrl+Return(enter)** to run and stay in the same cell. Running a markdown block will convert the markdown code into nice looking text. Running a code cell will execute the code and produce the output below the cell. You can go back into edit mode for a cell either by double clicking it or by pressing **Return(enter)**."
   ]
  },
  {
   "cell_type": "markdown",
   "metadata": {},
   "source": [
    "You can perform operations using the toolbox above the notebook. However, for most commands there are also predefined hotkeys. To find a list of all commands, use the hotkeys **Esc+p**."
   ]
  },
  {
   "cell_type": "markdown",
   "metadata": {},
   "source": [
    "You can insert new cells into a notebook by pressing the '**+**' button at the top of the page. This will create a new cell below the one you have currently selected. Alternatively, you can use the hotkeys **Esc+b** to create a new cell **b**elow the current one and **Esc+a** to create a new cell **a**bove the current one. Similarly, you can cut, copy, and paste complete cells using the **Esc+x** (cut), **Esc+x** (copy), and **Esc+v** (paste) commands."
   ]
  },
  {
   "cell_type": "markdown",
   "metadata": {},
   "source": [
    "On my system, a cell will default to be a 'code' cell. You can change these either by using the drop-down menu in the toolbar or by using the hotkeys **Esc+m** (change current cell into **m**arkdown) or **Esc+y** (change current cell into code)."
   ]
  },
  {
   "cell_type": "markdown",
   "metadata": {},
   "source": [
    "# Markdown cells"
   ]
  },
  {
   "cell_type": "markdown",
   "metadata": {},
   "source": [
    "All text should be written in markdown cells. Markdown provides a few convenient features for making a nice text. A few of them are highlighted below. To see the result, run the markdown cell."
   ]
  },
  {
   "cell_type": "markdown",
   "metadata": {},
   "source": [
    "- A dash will result in a bullet point, such as this one.\n",
    "- Use hashes for headers\n",
    " # Title\n",
    " ## Subtitle\n",
    " \n",
    "\n",
    "- Text can be made bold or italic using stars:\n",
    "\n",
    " **Bold text**\n",
    " \n",
    " *italic text*\n",
    "\n",
    "\n",
    "- You can use math code from LaTeX:\n",
    "\n",
    "$E = \\sum_{n} (y_n - t_n)^2$\n",
    "\n",
    "- You can also use HTML, for instance to create links to web pages:\n",
    "\n",
    "\"If something is unclear, it is a good idea to search for extra information on the website <a href=\"http://www.google.com\">google</a>.\""
   ]
  },
  {
   "cell_type": "markdown",
   "metadata": {},
   "source": [
    "# Code blocks"
   ]
  },
  {
   "cell_type": "markdown",
   "metadata": {},
   "source": [
    "All code done in your assignemnt should be placed in code cells. Running a code cell will execute the code and return the output below the cell. "
   ]
  },
  {
   "cell_type": "code",
   "execution_count": 1,
   "metadata": {},
   "outputs": [
    {
     "name": "stdout",
     "output_type": "stream",
     "text": [
      "This is a code block. We have imported a module and defined variables 'x' \n",
      "Its first five values are x[:5] = [0.  0.1 0.2 0.3 0.4]\n"
     ]
    }
   ],
   "source": [
    "import numpy as np\n",
    "\n",
    "x= np.arange(0, 2*np.pi, 0.1) # only change x in this line for the exercise below.\n",
    "\n",
    "print(\"This is a code block. We have imported a module and defined variables 'x' \")\n",
    "print(f\"Its first five values are x[:5] = {x[:5]}\")"
   ]
  },
  {
   "cell_type": "markdown",
   "metadata": {},
   "source": [
    "Running a code cell for the first time starts a new python kernel. All subsequent code is sent to the same kernel. That means that any code you have previously run will be remembered throughout the notebook"
   ]
  },
  {
   "cell_type": "code",
   "execution_count": 2,
   "metadata": {},
   "outputs": [
    {
     "name": "stdout",
     "output_type": "stream",
     "text": [
      "After running the code block above this one, the variable x is also defined in this cell:\n",
      "x[:5]=[0.  0.1 0.2 0.3 0.4]\n"
     ]
    }
   ],
   "source": [
    "print(f\"After running the code block above this one, the variable x is also defined in this cell:\\nx[:5]={x[:5]}\")"
   ]
  },
  {
   "cell_type": "markdown",
   "metadata": {},
   "source": [
    "Note that this very often is a source for mistakes. Suppose we want to do some follow-up coding on the previously defined variable x: we define $y=\\sin(x)$, and plot the graph."
   ]
  },
  {
   "cell_type": "code",
   "execution_count": 3,
   "metadata": {},
   "outputs": [
    {
     "data": {
      "text/plain": [
       "[<matplotlib.lines.Line2D at 0x79a9135ddb40>]"
      ]
     },
     "execution_count": 3,
     "metadata": {},
     "output_type": "execute_result"
    },
    {
     "data": {
      "image/png": "[encoded data removed]",
      "text/plain": [
       "<Figure size 432x288 with 1 Axes>"
      ]
     },
     "metadata": {
      "needs_background": "light"
     },
     "output_type": "display_data"
    }
   ],
   "source": [
    "import matplotlib.pyplot as plt\n",
    "y = np.sin(x)\n",
    "plt.plot(y)"
   ]
  },
  {
   "cell_type": "markdown",
   "metadata": {},
   "source": [
    "Then, we decide that 'x' maybe is not the most descriptive name for our input variable, so we decide to change the name of 'x' to 't' as in the cell below\n",
    "\n",
    "*Do this now in the definition of 'x' in the first code cell in this notebook.*"
   ]
  },
  {
   "cell_type": "code",
   "execution_count": 4,
   "metadata": {},
   "outputs": [
    {
     "name": "stdout",
     "output_type": "stream",
     "text": [
      "This is a code block. We have imported a module and defined variables 't' \n",
      "Its first five values are t[:5] = [0.  0.1 0.2 0.3 0.4]\n"
     ]
    }
   ],
   "source": [
    "import numpy as np\n",
    "\n",
    "t= np.arange(0, 2*np.pi, 0.1) # only change x in this line for the exercise below.\n",
    "\n",
    "print(\"This is a code block. We have imported a module and defined variables 't' \")\n",
    "print(f\"Its first five values are t[:5] = {t[:5]}\")"
   ]
  },
  {
   "cell_type": "markdown",
   "metadata": {},
   "source": [
    "We then move on and do some more coding with the variable 'y' that we have defined."
   ]
  },
  {
   "cell_type": "code",
   "execution_count": 5,
   "metadata": {},
   "outputs": [
    {
     "name": "stdout",
     "output_type": "stream",
     "text": [
      "The squared values are: [0.         0.00996671 0.0394695  0.08733219 0.15164665 0.22984885\n",
      " 0.31882112 0.41501643 0.51459976 0.61360105 0.70807342 0.79425056\n",
      " 0.86869686 0.92844438 0.97111117 0.99499625 0.99914739 0.9833991\n",
      " 0.94837921 0.89548386 0.82682181 0.74513041 0.65366643 0.55607626\n",
      " 0.45625051 0.35816891 0.26574166 0.18265356 0.11221706 0.05724024\n",
      " 0.01991486 0.00172895 0.00340754 0.0248837  0.06530125 0.12304887\n",
      " 0.19582434 0.28072634 0.37437008 0.47302229 0.57275002 0.66957743\n",
      " 0.75964433 0.83936002 0.90554651 0.95556513 0.98742181 0.99984652\n",
      " 0.99234393 0.96521314 0.91953576 0.85713283 0.78049213 0.6926691\n",
      " 0.59716495 0.49778715 0.39849757 0.30325457 0.21585519 0.13978376\n",
      " 0.07807302 0.03318318 0.00690385]\n"
     ]
    }
   ],
   "source": [
    "squared = np.square(y)\n",
    "print(f\"The squared values are: {squared}\")"
   ]
  },
  {
   "cell_type": "markdown",
   "metadata": {},
   "source": [
    "At first sight, nothing seems wrong. However, we forgot to change the input of variable 'y' to the new name 't'. It is still the sine of variable 'x'. We have run some code that defined variable 'x' and 'y' previously. That means that our current kernel still knows what 'x' and 'y' are, even though we have since removed the definition of variable 'x'. As a result, if I would hand in this notebook and someone would start a new kernel and run the code from top to bottom, the variable 'x' is not defined anywhere. This results in errors."
   ]
  },
  {
   "cell_type": "markdown",
   "metadata": {},
   "source": [
    "The simpelest and most important way to prevent this is to **always** restart the kernel and run your notebook from top to bottom. "
   ]
  },
  {
   "cell_type": "markdown",
   "metadata": {},
   "source": [
    "Don't forget to put the 'x' back in the first cell ..."
   ]
  },
  {
   "cell_type": "markdown",
   "metadata": {},
   "source": [
    "# Loading in different code"
   ]
  },
  {
   "cell_type": "markdown",
   "metadata": {},
   "source": [
    "It is possible to load code from different files into your notebook. You have to remove the \\#  in front of the load command in the cell below and run the cell twice. The first time, the load command takes the code from the relvant file and writes it down in the cell. The load command is then commented out. The second time you actually run the code. \n",
    "\n",
    "We will use this for the homework exercises. The answers are usually provided in separate code snippets that you can load in if you are having trouble finishing the exercises. It is always best to first try to solve the problems yourself. Note that the answers usually just provide one solution. It is completely fine to find your own solution."
   ]
  },
  {
   "cell_type": "code",
   "execution_count": 11,
   "metadata": {},
   "outputs": [],
   "source": [
    "# %load one.py"
   ]
  },
  {
   "cell_type": "markdown",
   "metadata": {},
   "source": [
    "If the code is loaded *and* executed, the following cell should run without error."
   ]
  },
  {
   "cell_type": "code",
   "execution_count": 12,
   "metadata": {},
   "outputs": [
    {
     "name": "stdout",
     "output_type": "stream",
     "text": [
      "100\n"
     ]
    }
   ],
   "source": [
    "squared_variable = test_var**2\n",
    "print(squared_variable)"
   ]
  }
 ],
 "metadata": {
  "@webio": {
   "lastCommId": null,
   "lastKernelId": null
  },
  "kernelspec": {
   "display_name": "Python 3 (ipykernel)",
   "language": "python",
   "name": "python3"
  },
  "language_info": {
   "codemirror_mode": {
    "name": "ipython",
    "version": 3
   },
   "file_extension": ".py",
   "mimetype": "text/x-python",
   "name": "python",
   "nbconvert_exporter": "python",
   "pygments_lexer": "ipython3",
   "version": "3.10.13"
  }
 },
 "nbformat": 4,
 "nbformat_minor": 4
}
