{
 "cells": [
  {
   "cell_type": "markdown",
   "id": "c8069730",
   "metadata": {},
   "source": [
    "### intial set-up"
   ]
  },
  {
   "cell_type": "code",
   "execution_count": 39,
   "id": "44ae3dd6",
   "metadata": {},
   "outputs": [],
   "source": [
    "import pandas as pd\n",
    "import numpy as np\n",
    "import matplotlib.pyplot as plt\n",
    "from pandas.plotting import scatter_matrix\n",
    "import seaborn as sb\n",
    "pd.set_option('display.max_columns', None) #all columns are displayed\n",
    "pd.set_option('display.max_rows', None) #all rows are displayed"
   ]
  },
  {
   "cell_type": "code",
   "execution_count": 40,
   "id": "e861f990",
   "metadata": {},
   "outputs": [
    {
     "data": {
      "text/plain": [
       "fixed acidity           0\n",
       "volatile acidity        0\n",
       "citric acid             0\n",
       "residual sugar          0\n",
       "chlorides               0\n",
       "free sulfur dioxide     0\n",
       "total sulfur dioxide    0\n",
       "density                 0\n",
       "pH                      0\n",
       "sulphates               0\n",
       "alcohol                 0\n",
       "quality                 0\n",
       "dtype: int64"
      ]
     },
     "execution_count": 40,
     "metadata": {},
     "output_type": "execute_result"
    }
   ],
   "source": [
    "wine = pd.read_csv(\"wine_data_white.csv\",sep=\";\")\n",
    "wine['alcohol'] = pd.to_numeric(wine['alcohol'], errors = 'coerce')\n",
    "wine = wine.dropna(subset=['alcohol'])\n",
    "wine.isnull().sum()"
   ]
  },
  {
   "cell_type": "markdown",
   "id": "cf59723e",
   "metadata": {},
   "source": [
    "### Data split & NeighborsClassifier"
   ]
  },
  {
   "cell_type": "code",
   "execution_count": 41,
   "id": "188aca96",
   "metadata": {},
   "outputs": [],
   "source": [
    "from sklearn.model_selection import train_test_split\n",
    "\n",
    "xwine = wine.drop('quality', axis =1)\n",
    "xtrn, xtst, ytrn, ytst = train_test_split(xwine, wine['quality'], random_state = 42, test_size = 0.2)\n"
   ]
  },
  {
   "cell_type": "code",
   "execution_count": 42,
   "id": "5e140016",
   "metadata": {},
   "outputs": [],
   "source": [
    "from sklearn.neighbors import KNeighborsClassifier\n",
    "knn = KNeighborsClassifier(n_neighbors=1)\n",
    "knn.fit(xtrn, ytrn)\n",
    "y_pred = knn.predict(xtst)"
   ]
  },
  {
   "cell_type": "code",
   "execution_count": 80,
   "id": "23d8a44a",
   "metadata": {},
   "outputs": [
    {
     "data": {
      "text/plain": [
       "0.42754367934224047"
      ]
     },
     "execution_count": 80,
     "metadata": {},
     "output_type": "execute_result"
    }
   ],
   "source": [
    "from sklearn.metrics import mean_absolute_error, root_mean_squared_error\n",
    "root_mean_squared_error (ytst, y_pred)\n",
    "mean_absolute_error(ytst, y_pred)\n",
    "\n",
    "#knn.score(xtst, ytst) #accuracy"
   ]
  },
  {
   "cell_type": "markdown",
   "id": "0c726c44",
   "metadata": {},
   "source": [
    "### note \n",
    "would be nice to plot the knn prob results and the distance towards the actuals. mlxtend is not supported by anaconda, asked Ilias\n"
   ]
  },
  {
   "cell_type": "code",
   "execution_count": 44,
   "id": "1db9783e",
   "metadata": {},
   "outputs": [],
   "source": [
    "#import mlxtend.plotting as mlx\n",
    "\n",
    "#from mlxtend.plotting import plot_decision_regions \n",
    "#plot_decision_regions(X, y, clf=knn, legend=2)  \n",
    "\n",
    "#plt.xlabel('X')  \n",
    "#plt.ylabel('Y')\n",
    "#plt.title('KNN with K=5')\n",
    "\n",
    "#plt.savefig('KNN with K=5.jpeg', bbox_inches=\"tight\", dpi=150)\n",
    "\n",
    "#plt.show()"
   ]
  },
  {
   "cell_type": "code",
   "execution_count": 45,
   "id": "c4947be8",
   "metadata": {},
   "outputs": [],
   "source": [
    "#import statsmodels.api as sm\n",
    "\n",
    "#df[\"predicted_write\"] = result.predict(df)\n",
    "\n",
    "#sns.scatterplot(x=\"write\", y=\"predicted_write\", data=df)\n",
    "#plt.xlabel(\"Actual Writing Score\")\n",
    "#plt.ylabel(\"Predicted Writing Score\")\n",
    "#plt.title(\"Actual vs. Predicted Writing Scores\")\n",
    "#plt.show()b"
   ]
  },
  {
   "cell_type": "markdown",
   "id": "4345f8ef",
   "metadata": {},
   "source": [
    "### Pipeline & cross validation"
   ]
  },
  {
   "cell_type": "code",
   "execution_count": 81,
   "id": "80bdf90a",
   "metadata": {},
   "outputs": [
    {
     "data": {
      "text/plain": [
       "0.42754367934224047"
      ]
     },
     "execution_count": 81,
     "metadata": {},
     "output_type": "execute_result"
    }
   ],
   "source": [
    "from sklearn.pipeline import make_pipeline\n",
    "from sklearn.preprocessing import StandardScaler\n",
    "scaler = StandardScaler()\n",
    "pipe = make_pipeline(scaler, knn)\n",
    "pipe.fit(xtrn, ytrn)\n",
    "y_pred = pipe.predict(xtst)\n",
    "root_mean_squared_error(y_pred, ytst)\n",
    "mean_absolute_error(y_pred, ytst)"
   ]
  },
  {
   "cell_type": "markdown",
   "id": "2b7c79ce",
   "metadata": {},
   "source": [
    "Note: check monday, scaling minimal adjusted performance metric. Would be nice to plot this"
   ]
  },
  {
   "cell_type": "code",
   "execution_count": null,
   "id": "fbe48c03",
   "metadata": {},
   "outputs": [
    {
     "data": {
      "text/plain": [
       "0    0.685494\n",
       "1    0.614396\n",
       "2    0.650386\n",
       "3    0.667095\n",
       "4    0.616967\n",
       "dtype: float64"
      ]
     },
     "execution_count": 85,
     "metadata": {},
     "output_type": "execute_result"
    }
   ],
   "source": [
    "from sklearn.model_selection import cross_val_score\n",
    "knn_mse = -cross_val_score(pipe, xtrn, ytrn, scoring = 'neg_mean_squared_error', cv = 5)"
   ]
  },
  {
   "cell_type": "code",
   "execution_count": 93,
   "id": "a6ab45f7",
   "metadata": {},
   "outputs": [
    {
     "data": {
      "text/plain": [
       "0.027792185473292246"
      ]
     },
     "execution_count": 93,
     "metadata": {},
     "output_type": "execute_result"
    }
   ],
   "source": [
    "np.mean(knn_mse)\n",
    "np.max(knn_mse) - np.min(knn_mse) \n",
    "np.std(knn_mse)"
   ]
  },
  {
   "cell_type": "code",
   "execution_count": 103,
   "id": "320ca36e",
   "metadata": {},
   "outputs": [
    {
     "name": "stdout",
     "output_type": "stream",
     "text": [
      "[[   0    2    6    5    0    1    0]\n",
      " [   1   40   55   35    5    2    0]\n",
      " [   2   48  739  331   42    3    0]\n",
      " [   3   21  357 1119  213   36    0]\n",
      " [   0    5   45  211  364   52    1]\n",
      " [   0    0    6   29   42   65    0]\n",
      " [   0    0    1    1    3    0    0]]\n"
     ]
    }
   ],
   "source": [
    "from sklearn.metrics import confusion_matrix\n",
    "from sklearn.model_selection import cross_val_predict\n",
    "y_predict = cross_val_predict(pipe,xtrn, ytrn, cv =5)\n",
    "cm = confusion_matrix(ytrn, y_predict)\n",
    "print(cm)"
   ]
  },
  {
   "cell_type": "markdown",
   "id": "d52fac3d",
   "metadata": {},
   "source": [
    "??"
   ]
  },
  {
   "cell_type": "markdown",
   "id": "ccf8aa8f",
   "metadata": {},
   "source": []
  }
 ],
 "metadata": {
  "kernelspec": {
   "display_name": "base",
   "language": "python",
   "name": "python3"
  },
  "language_info": {
   "codemirror_mode": {
    "name": "ipython",
    "version": 3
   },
   "file_extension": ".py",
   "mimetype": "text/x-python",
   "name": "python",
   "nbconvert_exporter": "python",
   "pygments_lexer": "ipython3",
   "version": "3.12.7"
  }
 },
 "nbformat": 4,
 "nbformat_minor": 5
}
